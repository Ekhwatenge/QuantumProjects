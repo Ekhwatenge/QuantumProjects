{
  "metadata": {
    "kernelspec": {
      "name": "xpython",
      "display_name": "Python 3.13 (XPython)",
      "language": "python"
    },
    "language_info": {
      "file_extension": ".py",
      "mimetype": "text/x-python",
      "name": "python",
      "version": "3.13.1"
    }
  },
  "nbformat_minor": 5,
  "nbformat": 4,
  "cells": [
    {
      "id": "7adde894-0676-4c65-834b-a75a52c7332a",
      "cell_type": "code",
      "source": "from qutip import *",
      "metadata": {
        "trusted": true
      },
      "outputs": [
        {
          "name": "stderr",
          "output_type": "stream",
          "text": "Matplotlib is building the font cache; this may take a moment.\n"
        }
      ],
      "execution_count": 1
    },
    {
      "id": "87669468-febb-48cf-b8cb-5c47ad7f7231",
      "cell_type": "code",
      "source": "import numpy as np\n\nimport matplotlib.pyplot as plt",
      "metadata": {
        "trusted": true
      },
      "outputs": [],
      "execution_count": 3
    },
    {
      "id": "93c446a9-c767-4a53-9210-4133f1e48753",
      "cell_type": "code",
      "source": "print(Qobj())",
      "metadata": {
        "trusted": true
      },
      "outputs": [
        {
          "name": "stdout",
          "output_type": "stream",
          "text": "Quantum object: dims=[[1], [1]], shape=(1, 1), type='scalar', dtype=Dense\nQobj data =\n[[nan]]\n"
        }
      ],
      "execution_count": 5
    },
    {
      "id": "a7f0026f-8c42-4f9c-b607-4acebf30bd1c",
      "cell_type": "code",
      "source": "#create a Qobj with a user defined data set by passing a list or array of data into the Qobj:\nprint(Qobj([[1],[2],[3],[4],[5]]))",
      "metadata": {
        "trusted": true
      },
      "outputs": [
        {
          "name": "stdout",
          "output_type": "stream",
          "text": "Quantum object: dims=[[5], [1]], shape=(5, 1), type='ket', dtype=Dense\nQobj data =\n[[1.]\n [2.]\n [3.]\n [4.]\n [5.]]\n"
        }
      ],
      "execution_count": 6
    },
    {
      "id": "b7db67b2-5200-45ab-b43f-b47b51ab1020",
      "cell_type": "code",
      "source": "x = np.array([[1, 2, 3, 4, 5]])\nprint(Qobj(x))",
      "metadata": {
        "trusted": true
      },
      "outputs": [
        {
          "name": "stdout",
          "output_type": "stream",
          "text": "Quantum object: dims=[[1], [5]], shape=(1, 5), type='bra', dtype=Dense\nQobj data =\n[[1. 2. 3. 4. 5.]]\n"
        }
      ],
      "execution_count": 7
    },
    {
      "id": "54f8da7f-5b37-4c93-a7b2-3881e65eb39c",
      "cell_type": "code",
      "source": "r = np.random.rand(4, 4)\nprint(Qobj(r))",
      "metadata": {
        "trusted": true
      },
      "outputs": [
        {
          "name": "stdout",
          "output_type": "stream",
          "text": "Quantum object: dims=[[4], [4]], shape=(4, 4), type='oper', dtype=Dense, isherm=False\nQobj data =\n[[0.74192799 0.51693149 0.4180531  0.35796805]\n [0.19847296 0.17397089 0.10427432 0.71273082]\n [0.23203016 0.23072568 0.74695307 0.81585501]\n [0.54561477 0.53969573 0.07618552 0.36275673]]\n"
        }
      ],
      "execution_count": 8
    },
    {
      "id": "7e43d88a-bfaa-478b-a86f-5e64817ce3c2",
      "cell_type": "code",
      "source": "#Manipulating States and Operators\n#create a Fock basis vacuum state vector with in a Hilbert space with 5 number states, from 0 to 4:\nvac = basis(5, 0)\n\nprint(vac)",
      "metadata": {
        "trusted": true
      },
      "outputs": [
        {
          "name": "stdout",
          "output_type": "stream",
          "text": "Quantum object: dims=[[5], [1]], shape=(5, 1), type='ket', dtype=Dense\nQobj data =\n[[1.]\n [0.]\n [0.]\n [0.]\n [0.]]\n"
        }
      ],
      "execution_count": 9
    },
    {
      "id": "ee5a46f6-970d-4790-bd21-706dc000b2eb",
      "cell_type": "code",
      "source": "# create a lowering operator corresponding to 5 number states using the destroy function:\na = destroy(5)\n\nprint(a)",
      "metadata": {
        "trusted": true
      },
      "outputs": [
        {
          "name": "stdout",
          "output_type": "stream",
          "text": "Quantum object: dims=[[5], [5]], shape=(5, 5), type='oper', dtype=Dia, isherm=False\nQobj data =\n[[0.         1.         0.         0.         0.        ]\n [0.         0.         1.41421356 0.         0.        ]\n [0.         0.         0.         1.73205081 0.        ]\n [0.         0.         0.         0.         2.        ]\n [0.         0.         0.         0.         0.        ]]\n"
        }
      ],
      "execution_count": 10
    },
    {
      "id": "2e403907-3b88-4726-99f3-ed0411710280",
      "cell_type": "code",
      "source": "# apply the destruction operator to our vacuum state vac\nprint(a * vac)",
      "metadata": {
        "trusted": true
      },
      "outputs": [
        {
          "name": "stdout",
          "output_type": "stream",
          "text": "Quantum object: dims=[[5], [1]], shape=(5, 1), type='ket', dtype=Dense\nQobj data =\n[[0.]\n [0.]\n [0.]\n [0.]\n [0.]]\n"
        }
      ],
      "execution_count": 11
    },
    {
      "id": "870bf3d3-af09-413d-a379-95bc75460d4e",
      "cell_type": "code",
      "source": "",
      "metadata": {
        "trusted": true,
        "tags": [],
        "editable": true,
        "slideshow": {
          "slide_type": ""
        }
      },
      "outputs": [],
      "execution_count": null
    }
  ]
}